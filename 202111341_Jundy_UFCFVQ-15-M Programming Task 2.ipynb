{
 "cells": [
  {
   "cell_type": "markdown",
   "metadata": {},
   "source": [
    "# UFCFVQ-15-M Programming for Data Science\n",
    "# Programming Task 2\n",
    "\n",
    "## Student Id: 202111341"
   ]
  },
  {
   "cell_type": "markdown",
   "metadata": {},
   "source": [
    "### Requirement FR2.1 - Read CSV data from a file (with a header row) into memory "
   ]
  },
  {
   "cell_type": "code",
   "execution_count": 2,
   "metadata": {},
   "outputs": [
    {
     "name": "stdout",
     "output_type": "stream",
     "text": [
      "       Unnamed: 0  id_student gender                region  \\\n",
      "0               0       11391      M   East Anglian Region   \n",
      "1               1       28400      F              Scotland   \n",
      "2               2       31604      F     South East Region   \n",
      "3               3       32885      F  West Midlands Region   \n",
      "4               4       38053      M                 Wales   \n",
      "...           ...         ...    ...                   ...   \n",
      "26741       26741     2620947      F              Scotland   \n",
      "26742       26742     2645731      F   East Anglian Region   \n",
      "26743       26743     2648187      F          South Region   \n",
      "26744       26744     2679821      F     South East Region   \n",
      "26745       26745     2684003      F      Yorkshire Region   \n",
      "\n",
      "           highest_education age_band disability final_result  score  \n",
      "0           HE Qualification     55<=          N         Pass   82.0  \n",
      "1           HE Qualification    35-55          N         Pass   67.0  \n",
      "2      A Level or Equivalent    35-55          N         Pass   76.0  \n",
      "3         Lower Than A Level     0-35          N         Pass   55.0  \n",
      "4      A Level or Equivalent    35-55          N         Pass   68.0  \n",
      "...                      ...      ...        ...          ...    ...  \n",
      "26741  A Level or Equivalent     0-35          Y  Distinction   89.0  \n",
      "26742     Lower Than A Level    35-55          N  Distinction   89.0  \n",
      "26743  A Level or Equivalent     0-35          Y         Pass   77.0  \n",
      "26744     Lower Than A Level    35-55          N    Withdrawn   92.0  \n",
      "26745       HE Qualification    35-55          N  Distinction   83.0  \n",
      "\n",
      "[26746 rows x 9 columns]\n"
     ]
    }
   ],
   "source": [
    "# add code here\n",
    "# import pandas library\n",
    "import pandas as pd\n",
    "\n",
    "# reading the csv file\n",
    "data_task2a = pd.read_csv('task2a.csv')\n",
    "\n",
    "#printing output\n",
    "print(data_task2a)"
   ]
  },
  {
   "cell_type": "markdown",
   "metadata": {},
   "source": [
    "### Requirement FR2.2 - Read CSV data from a file (without a header row) into memory"
   ]
  },
  {
   "cell_type": "code",
   "execution_count": 6,
   "metadata": {},
   "outputs": [
    {
     "name": "stdout",
     "output_type": "stream",
     "text": [
      "       id_student  click_events\n",
      "0            6516        2791.0\n",
      "1            8462         656.0\n",
      "2           11391         934.0\n",
      "3           23629           NaN\n",
      "4           23698         910.0\n",
      "...           ...           ...\n",
      "26069     2698251        1511.0\n",
      "26070     2698257         758.0\n",
      "26071     2698535        4241.0\n",
      "26072     2698577         717.0\n",
      "26073     2698588         605.0\n",
      "\n",
      "[26074 rows x 2 columns]\n"
     ]
    }
   ],
   "source": [
    "# add code here\n",
    "# read data \"task2b.csv\" and adding the header row 'id_student' and 'click_events'\n",
    "data_task2b = pd.read_csv('task2b.csv', names=['id_student', 'click_events'])\n",
    "\n",
    "print(data_task2b)"
   ]
  },
  {
   "cell_type": "markdown",
   "metadata": {},
   "source": [
    "### Requirement FR2.3 - Merge the data from two Dataframes"
   ]
  },
  {
   "cell_type": "code",
   "execution_count": 7,
   "metadata": {},
   "outputs": [
    {
     "name": "stdout",
     "output_type": "stream",
     "text": [
      "       Unnamed: 0  id_student gender                region  \\\n",
      "0               0       11391      M   East Anglian Region   \n",
      "1               1       28400      F              Scotland   \n",
      "2               2       31604      F     South East Region   \n",
      "3               3       32885      F  West Midlands Region   \n",
      "4               4       38053      M                 Wales   \n",
      "...           ...         ...    ...                   ...   \n",
      "26716       26741     2620947      F              Scotland   \n",
      "26717       26742     2645731      F   East Anglian Region   \n",
      "26718       26743     2648187      F          South Region   \n",
      "26719       26744     2679821      F     South East Region   \n",
      "26720       26745     2684003      F      Yorkshire Region   \n",
      "\n",
      "           highest_education age_band disability final_result  score  \\\n",
      "0           HE Qualification     55<=          N         Pass   82.0   \n",
      "1           HE Qualification    35-55          N         Pass   67.0   \n",
      "2      A Level or Equivalent    35-55          N         Pass   76.0   \n",
      "3         Lower Than A Level     0-35          N         Pass   55.0   \n",
      "4      A Level or Equivalent    35-55          N         Pass   68.0   \n",
      "...                      ...      ...        ...          ...    ...   \n",
      "26716  A Level or Equivalent     0-35          Y  Distinction   89.0   \n",
      "26717     Lower Than A Level    35-55          N  Distinction   89.0   \n",
      "26718  A Level or Equivalent     0-35          Y         Pass   77.0   \n",
      "26719     Lower Than A Level    35-55          N    Withdrawn   92.0   \n",
      "26720       HE Qualification    35-55          N  Distinction   83.0   \n",
      "\n",
      "       click_events  \n",
      "0             934.0  \n",
      "1            1435.0  \n",
      "2            2158.0  \n",
      "3            1034.0  \n",
      "4            2445.0  \n",
      "...             ...  \n",
      "26716         476.0  \n",
      "26717         893.0  \n",
      "26718         312.0  \n",
      "26719         275.0  \n",
      "26720         616.0  \n",
      "\n",
      "[26721 rows x 10 columns]\n"
     ]
    }
   ],
   "source": [
    "# add code here\n",
    "# merging the two DataFrame into one DataFrame based on student ID\n",
    "data_task2 = pd.merge(data_task2a, data_task2b, on=['id_student'])\n",
    "\n",
    "# printing the output\n",
    "print(data_task2)"
   ]
  },
  {
   "cell_type": "markdown",
   "metadata": {},
   "source": [
    "### Requirement FR2.4 - Remove any rows that contain missing values"
   ]
  },
  {
   "cell_type": "code",
   "execution_count": 9,
   "metadata": {},
   "outputs": [
    {
     "name": "stdout",
     "output_type": "stream",
     "text": [
      "       Unnamed: 0  id_student gender                region  \\\n",
      "0               0       11391      M   East Anglian Region   \n",
      "1               1       28400      F              Scotland   \n",
      "2               2       31604      F     South East Region   \n",
      "3               3       32885      F  West Midlands Region   \n",
      "4               4       38053      M                 Wales   \n",
      "...           ...         ...    ...                   ...   \n",
      "26716       26741     2620947      F              Scotland   \n",
      "26717       26742     2645731      F   East Anglian Region   \n",
      "26718       26743     2648187      F          South Region   \n",
      "26719       26744     2679821      F     South East Region   \n",
      "26720       26745     2684003      F      Yorkshire Region   \n",
      "\n",
      "           highest_education age_band disability final_result  score  \\\n",
      "0           HE Qualification     55<=          N         Pass   82.0   \n",
      "1           HE Qualification    35-55          N         Pass   67.0   \n",
      "2      A Level or Equivalent    35-55          N         Pass   76.0   \n",
      "3         Lower Than A Level     0-35          N         Pass   55.0   \n",
      "4      A Level or Equivalent    35-55          N         Pass   68.0   \n",
      "...                      ...      ...        ...          ...    ...   \n",
      "26716  A Level or Equivalent     0-35          Y  Distinction   89.0   \n",
      "26717     Lower Than A Level    35-55          N  Distinction   89.0   \n",
      "26718  A Level or Equivalent     0-35          Y         Pass   77.0   \n",
      "26719     Lower Than A Level    35-55          N    Withdrawn   92.0   \n",
      "26720       HE Qualification    35-55          N  Distinction   83.0   \n",
      "\n",
      "       click_events  \n",
      "0             934.0  \n",
      "1            1435.0  \n",
      "2            2158.0  \n",
      "3            1034.0  \n",
      "4            2445.0  \n",
      "...             ...  \n",
      "26716         476.0  \n",
      "26717         893.0  \n",
      "26718         312.0  \n",
      "26719         275.0  \n",
      "26720         616.0  \n",
      "\n",
      "[25332 rows x 10 columns]\n"
     ]
    }
   ],
   "source": [
    "# add code here\n",
    "# remove all rows that contain a missing value\n",
    "d_task2 = data_task2.dropna()\n",
    "\n",
    "# printing the output\n",
    "print(d_task2)"
   ]
  },
  {
   "cell_type": "markdown",
   "metadata": {},
   "source": [
    "### Requirement FR2.5 - Filter out unnecessary rows"
   ]
  },
  {
   "cell_type": "code",
   "execution_count": 66,
   "metadata": {},
   "outputs": [
    {
     "name": "stdout",
     "output_type": "stream",
     "text": [
      "       Unnamed: 0  id_student gender                region  \\\n",
      "0               0       11391      M   East Anglian Region   \n",
      "1               1       28400      F              Scotland   \n",
      "2               2       31604      F     South East Region   \n",
      "3               3       32885      F  West Midlands Region   \n",
      "4               4       38053      M                 Wales   \n",
      "...           ...         ...    ...                   ...   \n",
      "26716       26741     2620947      F              Scotland   \n",
      "26717       26742     2645731      F   East Anglian Region   \n",
      "26718       26743     2648187      F          South Region   \n",
      "26719       26744     2679821      F     South East Region   \n",
      "26720       26745     2684003      F      Yorkshire Region   \n",
      "\n",
      "           highest_education age_band disability final_result  score  \\\n",
      "0           HE Qualification     55<=          N         Pass   82.0   \n",
      "1           HE Qualification    35-55          N         Pass   67.0   \n",
      "2      A Level or Equivalent    35-55          N         Pass   76.0   \n",
      "3         Lower Than A Level     0-35          N         Pass   55.0   \n",
      "4      A Level or Equivalent    35-55          N         Pass   68.0   \n",
      "...                      ...      ...        ...          ...    ...   \n",
      "26716  A Level or Equivalent     0-35          Y  Distinction   89.0   \n",
      "26717     Lower Than A Level    35-55          N  Distinction   89.0   \n",
      "26718  A Level or Equivalent     0-35          Y         Pass   77.0   \n",
      "26719     Lower Than A Level    35-55          N    Withdrawn   92.0   \n",
      "26720       HE Qualification    35-55          N  Distinction   83.0   \n",
      "\n",
      "       click_events  \n",
      "0             934.0  \n",
      "1            1435.0  \n",
      "2            2158.0  \n",
      "3            1034.0  \n",
      "4            2445.0  \n",
      "...             ...  \n",
      "26716         476.0  \n",
      "26717         893.0  \n",
      "26718         312.0  \n",
      "26719         275.0  \n",
      "26720         616.0  \n",
      "\n",
      "[25254 rows x 10 columns]\n"
     ]
    }
   ],
   "source": [
    "# add code here\n",
    "# remove all rows where click_event is less than 10\n",
    "\n",
    "filter_dtask2 = d_task2[d_task2.click_events > 10]\n",
    "\n",
    "#printing the ouput\n",
    "print(filter_dtask2)"
   ]
  },
  {
   "cell_type": "markdown",
   "metadata": {},
   "source": [
    "### Requirement FR2.6 - Rename the score column"
   ]
  },
  {
   "cell_type": "code",
   "execution_count": 67,
   "metadata": {},
   "outputs": [
    {
     "name": "stdout",
     "output_type": "stream",
     "text": [
      "       Unnamed: 0  id_student gender                region  \\\n",
      "0               0       11391      M   East Anglian Region   \n",
      "1               1       28400      F              Scotland   \n",
      "2               2       31604      F     South East Region   \n",
      "3               3       32885      F  West Midlands Region   \n",
      "4               4       38053      M                 Wales   \n",
      "...           ...         ...    ...                   ...   \n",
      "26716       26741     2620947      F              Scotland   \n",
      "26717       26742     2645731      F   East Anglian Region   \n",
      "26718       26743     2648187      F          South Region   \n",
      "26719       26744     2679821      F     South East Region   \n",
      "26720       26745     2684003      F      Yorkshire Region   \n",
      "\n",
      "           highest_education age_band disability final_result  final_mark  \\\n",
      "0           HE Qualification     55<=          N         Pass        82.0   \n",
      "1           HE Qualification    35-55          N         Pass        67.0   \n",
      "2      A Level or Equivalent    35-55          N         Pass        76.0   \n",
      "3         Lower Than A Level     0-35          N         Pass        55.0   \n",
      "4      A Level or Equivalent    35-55          N         Pass        68.0   \n",
      "...                      ...      ...        ...          ...         ...   \n",
      "26716  A Level or Equivalent     0-35          Y  Distinction        89.0   \n",
      "26717     Lower Than A Level    35-55          N  Distinction        89.0   \n",
      "26718  A Level or Equivalent     0-35          Y         Pass        77.0   \n",
      "26719     Lower Than A Level    35-55          N    Withdrawn        92.0   \n",
      "26720       HE Qualification    35-55          N  Distinction        83.0   \n",
      "\n",
      "       click_events  \n",
      "0             934.0  \n",
      "1            1435.0  \n",
      "2            2158.0  \n",
      "3            1034.0  \n",
      "4            2445.0  \n",
      "...             ...  \n",
      "26716         476.0  \n",
      "26717         893.0  \n",
      "26718         312.0  \n",
      "26719         275.0  \n",
      "26720         616.0  \n",
      "\n",
      "[25254 rows x 10 columns]\n"
     ]
    }
   ],
   "source": [
    "# add code here\n",
    "# rename 'score' column to 'final_mark'\n",
    "rename_dtask2 = filter_dtask2.rename(columns={'score': 'final_mark'})\n",
    "\n",
    "# printing the output with renamed column header\n",
    "print(rename_dtask2)"
   ]
  },
  {
   "cell_type": "markdown",
   "metadata": {},
   "source": [
    "### Requirement FR2.7 - Remove unnecessary column(s)"
   ]
  },
  {
   "cell_type": "code",
   "execution_count": 68,
   "metadata": {},
   "outputs": [
    {
     "name": "stdout",
     "output_type": "stream",
     "text": [
      "       Unnamed: 0  id_student gender age_band disability  final_mark  \\\n",
      "0               0       11391      M     55<=          N        82.0   \n",
      "1               1       28400      F    35-55          N        67.0   \n",
      "2               2       31604      F    35-55          N        76.0   \n",
      "3               3       32885      F     0-35          N        55.0   \n",
      "4               4       38053      M    35-55          N        68.0   \n",
      "...           ...         ...    ...      ...        ...         ...   \n",
      "26716       26741     2620947      F     0-35          Y        89.0   \n",
      "26717       26742     2645731      F    35-55          N        89.0   \n",
      "26718       26743     2648187      F     0-35          Y        77.0   \n",
      "26719       26744     2679821      F    35-55          N        92.0   \n",
      "26720       26745     2684003      F    35-55          N        83.0   \n",
      "\n",
      "       click_events  \n",
      "0             934.0  \n",
      "1            1435.0  \n",
      "2            2158.0  \n",
      "3            1034.0  \n",
      "4            2445.0  \n",
      "...             ...  \n",
      "26716         476.0  \n",
      "26717         893.0  \n",
      "26718         312.0  \n",
      "26719         275.0  \n",
      "26720         616.0  \n",
      "\n",
      "[25254 rows x 7 columns]\n"
     ]
    }
   ],
   "source": [
    "# add code here\n",
    "# remove the columns 'region', 'final_result' and 'highest education'\n",
    "remove_dtask2 = rename_dtask2.drop(['region', 'final_result', 'highest_education'], axis=1)\n",
    "\n",
    "# printing the output without the dropped columns\n",
    "print(remove_dtask2)"
   ]
  },
  {
   "cell_type": "markdown",
   "metadata": {},
   "source": [
    "### Requirement FR2.8 - Write the DataFrame data to a CSV file"
   ]
  },
  {
   "cell_type": "code",
   "execution_count": 69,
   "metadata": {},
   "outputs": [],
   "source": [
    "# add code here\n",
    "# store the resulting DataFrame into CSV file\n",
    "remove_dtask2.to_csv(\"update.csv\", sep=\"\\t\")"
   ]
  },
  {
   "cell_type": "markdown",
   "metadata": {},
   "source": [
    "### Requirement FR2.9 - Investigate the effects of age-group on attainment and engagement"
   ]
  },
  {
   "cell_type": "code",
   "execution_count": 70,
   "metadata": {},
   "outputs": [
    {
     "name": "stdout",
     "output_type": "stream",
     "text": [
      "  age_band  final_mark  click_events\n",
      "0     0-35   72.503298   1616.655333\n",
      "1    35-55   75.049726   2193.875685\n",
      "2     55<=   77.718919   3574.864865\n"
     ]
    }
   ],
   "source": [
    "# add code here\n",
    "# import the numpy library\n",
    "import numpy as np\n",
    "\n",
    "# reading the updated data in FR2.8\n",
    "update_dtask2 = pd.read_csv('update.csv', delimiter='\\t', index_col=False)\n",
    "\n",
    "# grouping the data by 'age_band' and finding the average enagement and final marks for each group\n",
    "update_dtask2 = update_dtask2.groupby('age_band')\\\n",
    "        .agg({'final_mark':'mean', 'click_events':'mean'})\\\n",
    "        .reset_index()\n",
    "\n",
    "# printing the output\n",
    "print(update_dtask2)"
   ]
  },
  {
   "cell_type": "markdown",
   "metadata": {},
   "source": [
    "### Requirement FR2.10 - Present the results of the age-group investigation using an appropriate visualisation"
   ]
  },
  {
   "cell_type": "code",
   "execution_count": 71,
   "metadata": {},
   "outputs": [
    {
     "data": {
      "image/png": "[encoded data removed]",
      "text/plain": [
       "<Figure size 432x288 with 1 Axes>"
      ]
     },
     "metadata": {
      "needs_background": "light"
     },
     "output_type": "display_data"
    }
   ],
   "source": [
    "# add code here\n",
    "# import matplotlib.pyplot and seaborn libraries\n",
    "import matplotlib.pyplot as plt\n",
    "import seaborn as sb\n",
    "\n",
    "# ploting the bar plot for age groups and average engagement\n",
    "plot_dtask2 = sb.barplot(x='age_band', y='click_events', data =remove_dtask2)\n",
    "plot_dtask2.axhline(10)\n",
    "plt.show()"
   ]
  },
  {
   "cell_type": "code",
   "execution_count": 72,
   "metadata": {},
   "outputs": [
    {
     "data": {
      "image/png": "[encoded data removed]",
      "text/plain": [
       "<Figure size 432x288 with 1 Axes>"
      ]
     },
     "metadata": {
      "needs_background": "light"
     },
     "output_type": "display_data"
    }
   ],
   "source": [
    "# ploting the bar plot for age groups and final marks\n",
    "plot_dtask2 = sb.barplot(x='age_band', y='final_mark', data =remove_dtask2)\n",
    "plot_dtask2.axhline(10)\n",
    "plt.show()"
   ]
  },
  {
   "cell_type": "markdown",
   "metadata": {},
   "source": [
    "### Requirement FR2.11 - Investigate the effects of engagement on attainment"
   ]
  },
  {
   "cell_type": "code",
   "execution_count": 86,
   "metadata": {},
   "outputs": [
    {
     "data": {
      "image/png": "[encoded data removed]",
      "text/plain": [
       "<Figure size 432x288 with 1 Axes>"
      ]
     },
     "metadata": {
      "needs_background": "light"
     },
     "output_type": "display_data"
    }
   ],
   "source": [
    "# add code here\n",
    "# scatter plot to look at possible correlation between engagement and final mark\n",
    "\n",
    "y = remove_dtask2.final_mark\n",
    "x = remove_dtask2.click_events\n",
    "\n",
    "plt.scatter(x,y)\n",
    "plt.title('Scatter Plot between Engagement and Final Mark')\n",
    "plt.show()"
   ]
  },
  {
   "cell_type": "code",
   "execution_count": 83,
   "metadata": {},
   "outputs": [
    {
     "name": "stderr",
     "output_type": "stream",
     "text": [
      "C:\\Users\\Jundy Lozano\\anaconda3\\lib\\site-packages\\seaborn\\_decorators.py:36: FutureWarning: Pass the following variables as keyword args: x, y. From version 0.12, the only valid positional argument will be `data`, and passing other arguments without an explicit keyword will result in an error or misinterpretation.\n",
      "  warnings.warn(\n"
     ]
    },
    {
     "data": {
      "image/png": "[encoded data removed]",
      "text/plain": [
       "<Figure size 432x288 with 1 Axes>"
      ]
     },
     "metadata": {
      "needs_background": "light"
     },
     "output_type": "display_data"
    }
   ],
   "source": [
    "# scatter plot to look at possible correlation between engagement and final mark\n",
    "\n",
    "y = remove_dtask2.final_mark\n",
    "x = remove_dtask2.click_events\n",
    "\n",
    "sb.regplot(x, y)\n",
    "plt.show()"
   ]
  },
  {
   "cell_type": "markdown",
   "metadata": {},
   "source": [
    "### Requirement FR2.12 - Test the hypothesis that there is a significant effect on attainment"
   ]
  },
  {
   "cell_type": "code",
   "execution_count": 87,
   "metadata": {},
   "outputs": [
    {
     "name": "stdout",
     "output_type": "stream",
     "text": [
      "The Pearson correlation coefficient is: (0.2742600855499027, 0.0)\n",
      "Since the p-value 0.0 < 0.05, data shows that there is a highly significant correlation between engagement and final mark.\n"
     ]
    }
   ],
   "source": [
    "# add code here\n",
    "# compute for the pearson product correlation coefficient between engagement and final mark using scipy.stats\n",
    "import scipy.stats\n",
    "\n",
    "x1 = remove_dtask2.final_mark\n",
    "y1 = remove_dtask2.click_events\n",
    "corr = scipy.stats.pearsonr(x1, y1)\n",
    "print(\"The Pearson correlation coefficient is:\", corr)\n",
    "print('Since the p-value 0.0 < 0.05, data shows that there is a highly significant correlation between engagement and final mark.')"
   ]
  },
  {
   "cell_type": "markdown",
   "metadata": {},
   "source": [
    "# Process Development Report for Task 2\n",
    "\n",
    "    This task is aimed to test the main objectives of data science: data exploration, visualization and analysis. In this task, we use libraries like NumPy, Pandas and Matplotlib/Sraborn to perform what was required.\n",
    "    \n",
    "    First step was to read the given 'task2a.csv' file into a DataFrame object. To do this, I imported the pandas library and used it to read and store the file as a DataFrame. The same was performed in the second dat, 'task2b.csv', adding the header row id_student and click_events.Merging the two DataFrames into one, I used the merge function of pandas and rename the new DataFrame 'data_task2'. \n",
    "    After the successful merging, I then started the cleaning process. As the data may contain missing values and using drop.na() command, all rows that contain any missing value was removed from the DataFrame. This reduced the number of rows from 26,271 to 25,332. Cleaning the data further, I filtered out the 'unnecessary' rows under the condition that their engagement (click_events) is less than 10, thus retaining only rows with click_events greater than 10. This reduced the number of rows further to 25,254.\n",
    "    Now that the data is free from rows with missing values and enganements that is less than 10, focus was then shifted to column. The 'score' column header was changed to 'final_mark' using the .rename() command. After this, using the .drop() command, I removed the unnecessary columns 'region', 'final results', and 'highest education'. This reduced the number of columns from 10 to 7. After cleansing the merged DataFrame, I stored the resulting DataFrame into a CSV file and named it 'update.csv'. This CSV file will be used for the succeding tasks.\n",
    "    For the data exploration, analysis and visualtion part of the task, we are required to investigate the attainment (final_mark) and engagement (click_events) when grouped according to age groups (age_band). To to this, I need maths and stats functions from the NumPy library. The mean of final_mark and click_events according to age_band was then computed from the 'update.csv' file. This averages in final mark and engagement by age group was then visualized using bar plots from the MatPlotLib and SeaBorn libraries.\n",
    "    I then looked into the effects of engagement into the final mark of the student. I used the scatter plot and the regression plot to visualize possible correlation. The graph indicated possible correlation as shown by the regression line. Although the code gave some warnings, which I cannot figure out. Finally, to check whether the relationship is statistically significant or not, I used the scipy.stats library to compute for the Pearson product moment correlation coefficient. I used scipy.stats pearson-r because it also provides the P-value that helped me in deciding the significance of the correlation.\n",
    "    As a summary, I find task2 a lot easier to perform as compared to task 1. This is due to the availability of the libraries that we can use to exploration, analize and visualize the given data. Coming from someone who has near-to-zero background on programming, it has been an engaging learning curve.  \n",
    "    "
   ]
  }
 ],
 "metadata": {
  "kernelspec": {
   "display_name": "Python 3",
   "language": "python",
   "name": "python3"
  },
  "language_info": {
   "codemirror_mode": {
    "name": "ipython",
    "version": 3
   },
   "file_extension": ".py",
   "mimetype": "text/x-python",
   "name": "python",
   "nbconvert_exporter": "python",
   "pygments_lexer": "ipython3",
   "version": "3.8.8"
  }
 },
 "nbformat": 4,
 "nbformat_minor": 4
}
